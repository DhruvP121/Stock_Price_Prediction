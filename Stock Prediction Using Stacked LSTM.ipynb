{
 "cells": [
  {
   "cell_type": "markdown",
   "id": "a1b41147",
   "metadata": {},
   "source": [
    "1. We will collect the Stock data-- AAPL\n",
    "2. Preprocess the Data- Train and Test\n",
    "3. Create a Stacked LSTM Model\n",
    "4. Predict the test data and plot the output"
   ]
  },
  {
   "cell_type": "code",
   "execution_count": 1,
   "id": "782c864e",
   "metadata": {},
   "outputs": [],
   "source": [
    "### Data Collection\n",
    "import pandas_datareader as pdr"
   ]
  },
  {
   "cell_type": "code",
   "execution_count": 2,
   "id": "af5e5b1f",
   "metadata": {},
   "outputs": [],
   "source": [
    "key = \"\""
   ]
  },
  {
   "cell_type": "code",
   "execution_count": 4,
   "id": "a1b82904",
   "metadata": {},
   "outputs": [],
   "source": [
    "df.to_csv('AAPL.csv')"
   ]
  },
  {
   "cell_type": "code",
   "execution_count": 5,
   "id": "18a7c21a",
   "metadata": {},
   "outputs": [],
   "source": [
    "import pandas as pd\n",
    "df=pd.read_csv('AAPL.csv')"
   ]
  },
  {
   "cell_type": "code",
   "execution_count": 6,
   "id": "6341f504",
   "metadata": {},
   "outputs": [
    {
     "data": {
      "text/html": [
       "<div>\n",
       "<style scoped>\n",
       "    .dataframe tbody tr th:only-of-type {\n",
       "        vertical-align: middle;\n",
       "    }\n",
       "\n",
       "    .dataframe tbody tr th {\n",
       "        vertical-align: top;\n",
       "    }\n",
       "\n",
       "    .dataframe thead th {\n",
       "        text-align: right;\n",
       "    }\n",
       "</style>\n",
       "<table border=\"1\" class=\"dataframe\">\n",
       "  <thead>\n",
       "    <tr style=\"text-align: right;\">\n",
       "      <th></th>\n",
       "      <th>symbol</th>\n",
       "      <th>date</th>\n",
       "      <th>close</th>\n",
       "      <th>high</th>\n",
       "      <th>low</th>\n",
       "      <th>open</th>\n",
       "      <th>volume</th>\n",
       "      <th>adjClose</th>\n",
       "      <th>adjHigh</th>\n",
       "      <th>adjLow</th>\n",
       "      <th>adjOpen</th>\n",
       "      <th>adjVolume</th>\n",
       "      <th>divCash</th>\n",
       "      <th>splitFactor</th>\n",
       "    </tr>\n",
       "  </thead>\n",
       "  <tbody>\n",
       "    <tr>\n",
       "      <th>0</th>\n",
       "      <td>AAPL</td>\n",
       "      <td>2017-09-12 00:00:00+00:00</td>\n",
       "      <td>160.86</td>\n",
       "      <td>163.96</td>\n",
       "      <td>158.770</td>\n",
       "      <td>162.61</td>\n",
       "      <td>71139119</td>\n",
       "      <td>38.164573</td>\n",
       "      <td>38.900058</td>\n",
       "      <td>37.668713</td>\n",
       "      <td>38.579766</td>\n",
       "      <td>284556476</td>\n",
       "      <td>0.0</td>\n",
       "      <td>1.0</td>\n",
       "    </tr>\n",
       "    <tr>\n",
       "      <th>1</th>\n",
       "      <td>AAPL</td>\n",
       "      <td>2017-09-13 00:00:00+00:00</td>\n",
       "      <td>159.65</td>\n",
       "      <td>159.96</td>\n",
       "      <td>157.910</td>\n",
       "      <td>159.87</td>\n",
       "      <td>44393752</td>\n",
       "      <td>37.877496</td>\n",
       "      <td>37.951045</td>\n",
       "      <td>37.464675</td>\n",
       "      <td>37.929692</td>\n",
       "      <td>177575008</td>\n",
       "      <td>0.0</td>\n",
       "      <td>1.0</td>\n",
       "    </tr>\n",
       "    <tr>\n",
       "      <th>2</th>\n",
       "      <td>AAPL</td>\n",
       "      <td>2017-09-14 00:00:00+00:00</td>\n",
       "      <td>158.28</td>\n",
       "      <td>159.40</td>\n",
       "      <td>158.090</td>\n",
       "      <td>158.99</td>\n",
       "      <td>23073646</td>\n",
       "      <td>37.552459</td>\n",
       "      <td>37.818183</td>\n",
       "      <td>37.507381</td>\n",
       "      <td>37.720909</td>\n",
       "      <td>92294584</td>\n",
       "      <td>0.0</td>\n",
       "      <td>1.0</td>\n",
       "    </tr>\n",
       "    <tr>\n",
       "      <th>3</th>\n",
       "      <td>AAPL</td>\n",
       "      <td>2017-09-15 00:00:00+00:00</td>\n",
       "      <td>159.88</td>\n",
       "      <td>160.97</td>\n",
       "      <td>158.000</td>\n",
       "      <td>158.47</td>\n",
       "      <td>48203642</td>\n",
       "      <td>37.932064</td>\n",
       "      <td>38.190671</td>\n",
       "      <td>37.486028</td>\n",
       "      <td>37.597537</td>\n",
       "      <td>192814568</td>\n",
       "      <td>0.0</td>\n",
       "      <td>1.0</td>\n",
       "    </tr>\n",
       "    <tr>\n",
       "      <th>4</th>\n",
       "      <td>AAPL</td>\n",
       "      <td>2017-09-18 00:00:00+00:00</td>\n",
       "      <td>158.67</td>\n",
       "      <td>160.50</td>\n",
       "      <td>157.995</td>\n",
       "      <td>160.11</td>\n",
       "      <td>27939718</td>\n",
       "      <td>37.644988</td>\n",
       "      <td>38.079162</td>\n",
       "      <td>37.484842</td>\n",
       "      <td>37.986633</td>\n",
       "      <td>111758872</td>\n",
       "      <td>0.0</td>\n",
       "      <td>1.0</td>\n",
       "    </tr>\n",
       "  </tbody>\n",
       "</table>\n",
       "</div>"
      ],
      "text/plain": [
       "  symbol                       date   close    high      low    open  \\\n",
       "0   AAPL  2017-09-12 00:00:00+00:00  160.86  163.96  158.770  162.61   \n",
       "1   AAPL  2017-09-13 00:00:00+00:00  159.65  159.96  157.910  159.87   \n",
       "2   AAPL  2017-09-14 00:00:00+00:00  158.28  159.40  158.090  158.99   \n",
       "3   AAPL  2017-09-15 00:00:00+00:00  159.88  160.97  158.000  158.47   \n",
       "4   AAPL  2017-09-18 00:00:00+00:00  158.67  160.50  157.995  160.11   \n",
       "\n",
       "     volume   adjClose    adjHigh     adjLow    adjOpen  adjVolume  divCash  \\\n",
       "0  71139119  38.164573  38.900058  37.668713  38.579766  284556476      0.0   \n",
       "1  44393752  37.877496  37.951045  37.464675  37.929692  177575008      0.0   \n",
       "2  23073646  37.552459  37.818183  37.507381  37.720909   92294584      0.0   \n",
       "3  48203642  37.932064  38.190671  37.486028  37.597537  192814568      0.0   \n",
       "4  27939718  37.644988  38.079162  37.484842  37.986633  111758872      0.0   \n",
       "\n",
       "   splitFactor  \n",
       "0          1.0  \n",
       "1          1.0  \n",
       "2          1.0  \n",
       "3          1.0  \n",
       "4          1.0  "
      ]
     },
     "execution_count": 6,
     "metadata": {},
     "output_type": "execute_result"
    }
   ],
   "source": [
    "df.head()"
   ]
  },
  {
   "cell_type": "code",
   "execution_count": 7,
   "id": "5ed2af5f",
   "metadata": {},
   "outputs": [
    {
     "data": {
      "text/html": [
       "<div>\n",
       "<style scoped>\n",
       "    .dataframe tbody tr th:only-of-type {\n",
       "        vertical-align: middle;\n",
       "    }\n",
       "\n",
       "    .dataframe tbody tr th {\n",
       "        vertical-align: top;\n",
       "    }\n",
       "\n",
       "    .dataframe thead th {\n",
       "        text-align: right;\n",
       "    }\n",
       "</style>\n",
       "<table border=\"1\" class=\"dataframe\">\n",
       "  <thead>\n",
       "    <tr style=\"text-align: right;\">\n",
       "      <th></th>\n",
       "      <th>symbol</th>\n",
       "      <th>date</th>\n",
       "      <th>close</th>\n",
       "      <th>high</th>\n",
       "      <th>low</th>\n",
       "      <th>open</th>\n",
       "      <th>volume</th>\n",
       "      <th>adjClose</th>\n",
       "      <th>adjHigh</th>\n",
       "      <th>adjLow</th>\n",
       "      <th>adjOpen</th>\n",
       "      <th>adjVolume</th>\n",
       "      <th>divCash</th>\n",
       "      <th>splitFactor</th>\n",
       "    </tr>\n",
       "  </thead>\n",
       "  <tbody>\n",
       "    <tr>\n",
       "      <th>1253</th>\n",
       "      <td>AAPL</td>\n",
       "      <td>2022-09-02 00:00:00+00:00</td>\n",
       "      <td>155.81</td>\n",
       "      <td>160.362</td>\n",
       "      <td>154.965</td>\n",
       "      <td>159.750</td>\n",
       "      <td>76957768</td>\n",
       "      <td>155.81</td>\n",
       "      <td>160.362</td>\n",
       "      <td>154.965</td>\n",
       "      <td>159.750</td>\n",
       "      <td>76957768</td>\n",
       "      <td>0.0</td>\n",
       "      <td>1.0</td>\n",
       "    </tr>\n",
       "    <tr>\n",
       "      <th>1254</th>\n",
       "      <td>AAPL</td>\n",
       "      <td>2022-09-06 00:00:00+00:00</td>\n",
       "      <td>154.53</td>\n",
       "      <td>157.090</td>\n",
       "      <td>153.690</td>\n",
       "      <td>156.470</td>\n",
       "      <td>73295539</td>\n",
       "      <td>154.53</td>\n",
       "      <td>157.090</td>\n",
       "      <td>153.690</td>\n",
       "      <td>156.470</td>\n",
       "      <td>73295539</td>\n",
       "      <td>0.0</td>\n",
       "      <td>1.0</td>\n",
       "    </tr>\n",
       "    <tr>\n",
       "      <th>1255</th>\n",
       "      <td>AAPL</td>\n",
       "      <td>2022-09-07 00:00:00+00:00</td>\n",
       "      <td>155.96</td>\n",
       "      <td>156.670</td>\n",
       "      <td>153.610</td>\n",
       "      <td>154.825</td>\n",
       "      <td>87449574</td>\n",
       "      <td>155.96</td>\n",
       "      <td>156.670</td>\n",
       "      <td>153.610</td>\n",
       "      <td>154.825</td>\n",
       "      <td>87449574</td>\n",
       "      <td>0.0</td>\n",
       "      <td>1.0</td>\n",
       "    </tr>\n",
       "    <tr>\n",
       "      <th>1256</th>\n",
       "      <td>AAPL</td>\n",
       "      <td>2022-09-08 00:00:00+00:00</td>\n",
       "      <td>154.46</td>\n",
       "      <td>156.360</td>\n",
       "      <td>152.680</td>\n",
       "      <td>154.640</td>\n",
       "      <td>84923847</td>\n",
       "      <td>154.46</td>\n",
       "      <td>156.360</td>\n",
       "      <td>152.680</td>\n",
       "      <td>154.640</td>\n",
       "      <td>84923847</td>\n",
       "      <td>0.0</td>\n",
       "      <td>1.0</td>\n",
       "    </tr>\n",
       "    <tr>\n",
       "      <th>1257</th>\n",
       "      <td>AAPL</td>\n",
       "      <td>2022-09-09 00:00:00+00:00</td>\n",
       "      <td>157.37</td>\n",
       "      <td>157.820</td>\n",
       "      <td>154.750</td>\n",
       "      <td>155.470</td>\n",
       "      <td>68081006</td>\n",
       "      <td>157.37</td>\n",
       "      <td>157.820</td>\n",
       "      <td>154.750</td>\n",
       "      <td>155.470</td>\n",
       "      <td>68081006</td>\n",
       "      <td>0.0</td>\n",
       "      <td>1.0</td>\n",
       "    </tr>\n",
       "  </tbody>\n",
       "</table>\n",
       "</div>"
      ],
      "text/plain": [
       "     symbol                       date   close     high      low     open  \\\n",
       "1253   AAPL  2022-09-02 00:00:00+00:00  155.81  160.362  154.965  159.750   \n",
       "1254   AAPL  2022-09-06 00:00:00+00:00  154.53  157.090  153.690  156.470   \n",
       "1255   AAPL  2022-09-07 00:00:00+00:00  155.96  156.670  153.610  154.825   \n",
       "1256   AAPL  2022-09-08 00:00:00+00:00  154.46  156.360  152.680  154.640   \n",
       "1257   AAPL  2022-09-09 00:00:00+00:00  157.37  157.820  154.750  155.470   \n",
       "\n",
       "        volume  adjClose  adjHigh   adjLow  adjOpen  adjVolume  divCash  \\\n",
       "1253  76957768    155.81  160.362  154.965  159.750   76957768      0.0   \n",
       "1254  73295539    154.53  157.090  153.690  156.470   73295539      0.0   \n",
       "1255  87449574    155.96  156.670  153.610  154.825   87449574      0.0   \n",
       "1256  84923847    154.46  156.360  152.680  154.640   84923847      0.0   \n",
       "1257  68081006    157.37  157.820  154.750  155.470   68081006      0.0   \n",
       "\n",
       "      splitFactor  \n",
       "1253          1.0  \n",
       "1254          1.0  \n",
       "1255          1.0  \n",
       "1256          1.0  \n",
       "1257          1.0  "
      ]
     },
     "execution_count": 7,
     "metadata": {},
     "output_type": "execute_result"
    }
   ],
   "source": [
    "df.tail()"
   ]
  },
  {
   "cell_type": "code",
   "execution_count": 8,
   "id": "a52ac754",
   "metadata": {},
   "outputs": [],
   "source": [
    "df1 = df.reset_index()['close']"
   ]
  },
  {
   "cell_type": "code",
   "execution_count": 9,
   "id": "82179ef8",
   "metadata": {},
   "outputs": [
    {
     "data": {
      "text/plain": [
       "0       160.86\n",
       "1       159.65\n",
       "2       158.28\n",
       "3       159.88\n",
       "4       158.67\n",
       "         ...  \n",
       "1253    155.81\n",
       "1254    154.53\n",
       "1255    155.96\n",
       "1256    154.46\n",
       "1257    157.37\n",
       "Name: close, Length: 1258, dtype: float64"
      ]
     },
     "execution_count": 9,
     "metadata": {},
     "output_type": "execute_result"
    }
   ],
   "source": [
    "df1"
   ]
  },
  {
   "cell_type": "code",
   "execution_count": 10,
   "id": "56b1f9c3",
   "metadata": {},
   "outputs": [
    {
     "data": {
      "text/plain": [
       "(1258,)"
      ]
     },
     "execution_count": 10,
     "metadata": {},
     "output_type": "execute_result"
    }
   ],
   "source": [
    "df1.shape"
   ]
  },
  {
   "cell_type": "code",
   "execution_count": 11,
   "id": "ea8f2d0a",
   "metadata": {},
   "outputs": [
    {
     "data": {
      "text/plain": [
       "[<matplotlib.lines.Line2D at 0x243594d3970>]"
      ]
     },
     "execution_count": 11,
     "metadata": {},
     "output_type": "execute_result"
    },
    {
     "data": {
      "image/png": "[encoded data removed]",
      "text/plain": [
       "<Figure size 432x288 with 1 Axes>"
      ]
     },
     "metadata": {
      "needs_background": "light"
     },
     "output_type": "display_data"
    }
   ],
   "source": [
    "import matplotlib.pyplot as plt\n",
    "plt.plot(df1)"
   ]
  },
  {
   "cell_type": "code",
   "execution_count": 13,
   "id": "bc6b6f79",
   "metadata": {},
   "outputs": [],
   "source": [
    "import numpy as np"
   ]
  },
  {
   "cell_type": "markdown",
   "id": "76ebb53b",
   "metadata": {},
   "source": [
    "LSTMs are highly sensitive to the scale of the data, so we will apply MIN-MAX scaler"
   ]
  },
  {
   "cell_type": "code",
   "execution_count": 14,
   "id": "893847c5",
   "metadata": {},
   "outputs": [],
   "source": [
    "from sklearn.preprocessing import MinMaxScaler\n",
    "scaler=MinMaxScaler(feature_range=(0,1))\n",
    "df1=scaler.fit_transform(np.array(df1).reshape(-1,1))"
   ]
  },
  {
   "cell_type": "code",
   "execution_count": 15,
   "id": "5dbcc07c",
   "metadata": {},
   "outputs": [
    {
     "data": {
      "text/plain": [
       "array([[0.13530369],\n",
       "       [0.13227301],\n",
       "       [0.12884158],\n",
       "       ...,\n",
       "       [0.12303068],\n",
       "       [0.11927364],\n",
       "       [0.1265623 ]])"
      ]
     },
     "execution_count": 15,
     "metadata": {},
     "output_type": "execute_result"
    }
   ],
   "source": [
    "df1"
   ]
  },
  {
   "cell_type": "code",
   "execution_count": 16,
   "id": "a929a083",
   "metadata": {},
   "outputs": [
    {
     "data": {
      "text/plain": [
       "(1258, 1)"
      ]
     },
     "execution_count": 16,
     "metadata": {},
     "output_type": "execute_result"
    }
   ],
   "source": [
    "df1.shape"
   ]
  },
  {
   "cell_type": "code",
   "execution_count": 17,
   "id": "a7cee23b",
   "metadata": {},
   "outputs": [],
   "source": [
    "##splitting dataset into train and test split\n",
    "training_size=int(len(df1)*0.65)\n",
    "test_size=len(df1)-training_size\n",
    "train_data,test_data=df1[0:training_size,:],df1[training_size:len(df1),:1]"
   ]
  },
  {
   "cell_type": "code",
   "execution_count": 18,
   "id": "2925bad2",
   "metadata": {},
   "outputs": [
    {
     "data": {
      "text/plain": [
       "(817, 441)"
      ]
     },
     "execution_count": 18,
     "metadata": {},
     "output_type": "execute_result"
    }
   ],
   "source": [
    "training_size, test_size"
   ]
  },
  {
   "cell_type": "code",
   "execution_count": 19,
   "id": "41c267cf",
   "metadata": {},
   "outputs": [
    {
     "data": {
      "text/plain": [
       "(817, 441)"
      ]
     },
     "execution_count": 19,
     "metadata": {},
     "output_type": "execute_result"
    }
   ],
   "source": [
    "len(train_data), len(test_data)"
   ]
  },
  {
   "cell_type": "code",
   "execution_count": 20,
   "id": "e2d9552b",
   "metadata": {},
   "outputs": [],
   "source": [
    "import numpy\n",
    "# convert an array of values into a dataset matrix\n",
    "def create_dataset(dataset, time_step=1):\n",
    "    dataX, dataY = [], []\n",
    "    for i in range(len(dataset)-time_step-1):\n",
    "        a = dataset[i:(i+time_step), 0]   ###i=0, 0,1,2,3-----99   100 \n",
    "        dataX.append(a)\n",
    "        dataY.append(dataset[i + time_step, 0])\n",
    "    return numpy.array(dataX), numpy.array(dataY)"
   ]
  },
  {
   "cell_type": "code",
   "execution_count": 21,
   "id": "d3989d08",
   "metadata": {},
   "outputs": [],
   "source": [
    "time_step = 100\n",
    "X_train, y_train = create_dataset(train_data, time_step)\n",
    "X_test, ytest = create_dataset(test_data, time_step)"
   ]
  },
  {
   "cell_type": "code",
   "execution_count": 22,
   "id": "1f50dab3",
   "metadata": {
    "scrolled": true
   },
   "outputs": [
    {
     "name": "stdout",
     "output_type": "stream",
     "text": [
      "(716, 100)\n",
      "(716,)\n"
     ]
    },
    {
     "data": {
      "text/plain": [
       "(None, None)"
      ]
     },
     "execution_count": 22,
     "metadata": {},
     "output_type": "execute_result"
    }
   ],
   "source": [
    "print(X_train.shape), print(y_train.shape)"
   ]
  },
  {
   "cell_type": "code",
   "execution_count": 23,
   "id": "1a022e1c",
   "metadata": {},
   "outputs": [
    {
     "name": "stdout",
     "output_type": "stream",
     "text": [
      "(340, 100)\n",
      "(340,)\n"
     ]
    },
    {
     "data": {
      "text/plain": [
       "(None, None)"
      ]
     },
     "execution_count": 23,
     "metadata": {},
     "output_type": "execute_result"
    }
   ],
   "source": [
    "print(X_test.shape), print(ytest.shape)"
   ]
  },
  {
   "cell_type": "code",
   "execution_count": 24,
   "id": "3d18f8a8",
   "metadata": {},
   "outputs": [],
   "source": [
    "# reshape input to be [samples, time steps, features] which is required for LSTM\n",
    "X_train =X_train.reshape(X_train.shape[0],X_train.shape[1] , 1)\n",
    "X_test = X_test.reshape(X_test.shape[0],X_test.shape[1] , 1)"
   ]
  },
  {
   "cell_type": "code",
   "execution_count": 25,
   "id": "e55b8091",
   "metadata": {},
   "outputs": [
    {
     "data": {
      "text/plain": [
       "array([[[0.13530369],\n",
       "        [0.13227301],\n",
       "        [0.12884158],\n",
       "        ...,\n",
       "        [0.15175955],\n",
       "        [0.15263619],\n",
       "        [0.134402  ]],\n",
       "\n",
       "       [[0.13227301],\n",
       "        [0.12884158],\n",
       "        [0.13284909],\n",
       "        ...,\n",
       "        [0.15263619],\n",
       "        [0.134402  ],\n",
       "        [0.12435817]],\n",
       "\n",
       "       [[0.12884158],\n",
       "        [0.13284909],\n",
       "        [0.12981841],\n",
       "        ...,\n",
       "        [0.134402  ],\n",
       "        [0.12435817],\n",
       "        [0.14073889]],\n",
       "\n",
       "       ...,\n",
       "\n",
       "       [[0.70479649],\n",
       "        [0.71148403],\n",
       "        [0.69943644],\n",
       "        ...,\n",
       "        [0.03058234],\n",
       "        [0.03977458],\n",
       "        [0.04067627]],\n",
       "\n",
       "       [[0.71148403],\n",
       "        [0.69943644],\n",
       "        [0.69748278],\n",
       "        ...,\n",
       "        [0.03977458],\n",
       "        [0.04067627],\n",
       "        [0.04032561]],\n",
       "\n",
       "       [[0.69943644],\n",
       "        [0.69748278],\n",
       "        [0.71782091],\n",
       "        ...,\n",
       "        [0.04067627],\n",
       "        [0.04032561],\n",
       "        [0.03859737]]])"
      ]
     },
     "execution_count": 25,
     "metadata": {},
     "output_type": "execute_result"
    }
   ],
   "source": [
    "X_train"
   ]
  },
  {
   "cell_type": "code",
   "execution_count": 26,
   "id": "f5fd0c5f",
   "metadata": {},
   "outputs": [
    {
     "name": "stdout",
     "output_type": "stream",
     "text": [
      "Model: \"sequential\"\n",
      "_________________________________________________________________\n",
      " Layer (type)                Output Shape              Param #   \n",
      "=================================================================\n",
      " lstm (LSTM)                 (None, 100, 50)           10400     \n",
      "                                                                 \n",
      " lstm_1 (LSTM)               (None, 100, 50)           20200     \n",
      "                                                                 \n",
      " lstm_2 (LSTM)               (None, 50)                20200     \n",
      "                                                                 \n",
      " dense (Dense)               (None, 1)                 51        \n",
      "                                                                 \n",
      "=================================================================\n",
      "Total params: 50,851\n",
      "Trainable params: 50,851\n",
      "Non-trainable params: 0\n",
      "_________________________________________________________________\n"
     ]
    }
   ],
   "source": [
    "### Create the LSTM Model\n",
    "from tensorflow.keras.models import Sequential\n",
    "from tensorflow.keras.layers import Dense\n",
    "from tensorflow.keras.layers import LSTM\n",
    "model=Sequential()\n",
    "model.add(LSTM(50,return_sequences=True,input_shape=(100,1)))\n",
    "model.add(LSTM(50,return_sequences=True))\n",
    "model.add(LSTM(50))\n",
    "model.add(Dense(1))\n",
    "model.compile(loss='mean_squared_error',optimizer='adam')\n",
    "model.summary()"
   ]
  },
  {
   "cell_type": "code",
   "execution_count": 28,
   "id": "d24d7eb8",
   "metadata": {},
   "outputs": [
    {
     "name": "stdout",
     "output_type": "stream",
     "text": [
      "Epoch 1/100\n",
      "12/12 [==============================] - 10s 366ms/step - loss: 0.0436 - val_loss: 0.0027\n",
      "Epoch 2/100\n",
      "12/12 [==============================] - 3s 220ms/step - loss: 0.0147 - val_loss: 0.0047\n",
      "Epoch 3/100\n",
      "12/12 [==============================] - 3s 244ms/step - loss: 0.0113 - val_loss: 0.0012\n",
      "Epoch 4/100\n",
      "12/12 [==============================] - 3s 233ms/step - loss: 0.0097 - val_loss: 5.1481e-04\n",
      "Epoch 5/100\n",
      "12/12 [==============================] - 3s 237ms/step - loss: 0.0091 - val_loss: 3.5514e-04\n",
      "Epoch 6/100\n",
      "12/12 [==============================] - 3s 235ms/step - loss: 0.0085 - val_loss: 2.9480e-04\n",
      "Epoch 7/100\n",
      "12/12 [==============================] - 3s 235ms/step - loss: 0.0073 - val_loss: 2.9461e-04\n",
      "Epoch 8/100\n",
      "12/12 [==============================] - 3s 236ms/step - loss: 0.0064 - val_loss: 4.9497e-04\n",
      "Epoch 9/100\n",
      "12/12 [==============================] - 3s 223ms/step - loss: 0.0057 - val_loss: 3.1341e-04\n",
      "Epoch 10/100\n",
      "12/12 [==============================] - 3s 231ms/step - loss: 0.0052 - val_loss: 3.4975e-04\n",
      "Epoch 11/100\n",
      "12/12 [==============================] - 3s 226ms/step - loss: 0.0053 - val_loss: 7.0482e-04\n",
      "Epoch 12/100\n",
      "12/12 [==============================] - 3s 230ms/step - loss: 0.0051 - val_loss: 4.0796e-04\n",
      "Epoch 13/100\n",
      "12/12 [==============================] - 3s 232ms/step - loss: 0.0037 - val_loss: 5.5808e-04\n",
      "Epoch 14/100\n",
      "12/12 [==============================] - 3s 232ms/step - loss: 0.0041 - val_loss: 3.7247e-04\n",
      "Epoch 15/100\n",
      "12/12 [==============================] - 3s 233ms/step - loss: 0.0038 - val_loss: 3.0679e-04\n",
      "Epoch 16/100\n",
      "12/12 [==============================] - 3s 236ms/step - loss: 0.0033 - val_loss: 3.1855e-04\n",
      "Epoch 17/100\n",
      "12/12 [==============================] - 3s 233ms/step - loss: 0.0035 - val_loss: 5.4442e-04\n",
      "Epoch 18/100\n",
      "12/12 [==============================] - 3s 231ms/step - loss: 0.0032 - val_loss: 3.1078e-04\n",
      "Epoch 19/100\n",
      "12/12 [==============================] - 3s 239ms/step - loss: 0.0038 - val_loss: 9.8143e-04\n",
      "Epoch 20/100\n",
      "12/12 [==============================] - 3s 228ms/step - loss: 0.0076 - val_loss: 0.0016\n",
      "Epoch 21/100\n",
      "12/12 [==============================] - 2s 209ms/step - loss: 0.0044 - val_loss: 3.0643e-04\n",
      "Epoch 22/100\n",
      "12/12 [==============================] - 3s 236ms/step - loss: 0.0034 - val_loss: 2.8898e-04\n",
      "Epoch 23/100\n",
      "12/12 [==============================] - 3s 209ms/step - loss: 0.0028 - val_loss: 2.9664e-04\n",
      "Epoch 24/100\n",
      "12/12 [==============================] - 3s 277ms/step - loss: 0.0035 - val_loss: 2.4388e-04\n",
      "Epoch 25/100\n",
      "12/12 [==============================] - 3s 212ms/step - loss: 0.0028 - val_loss: 2.4521e-04\n",
      "Epoch 26/100\n",
      "12/12 [==============================] - 3s 218ms/step - loss: 0.0026 - val_loss: 3.0825e-04\n",
      "Epoch 27/100\n",
      "12/12 [==============================] - 3s 229ms/step - loss: 0.0022 - val_loss: 4.0394e-04\n",
      "Epoch 28/100\n",
      "12/12 [==============================] - 2s 192ms/step - loss: 0.0023 - val_loss: 2.6028e-04\n",
      "Epoch 29/100\n",
      "12/12 [==============================] - 2s 185ms/step - loss: 0.0033 - val_loss: 3.1943e-04\n",
      "Epoch 30/100\n",
      "12/12 [==============================] - 2s 187ms/step - loss: 0.0030 - val_loss: 2.2276e-04\n",
      "Epoch 31/100\n",
      "12/12 [==============================] - 2s 193ms/step - loss: 0.0022 - val_loss: 2.5623e-04\n",
      "Epoch 32/100\n",
      "12/12 [==============================] - 2s 191ms/step - loss: 0.0023 - val_loss: 4.5892e-04\n",
      "Epoch 33/100\n",
      "12/12 [==============================] - 2s 191ms/step - loss: 0.0022 - val_loss: 3.6567e-04\n",
      "Epoch 34/100\n",
      "12/12 [==============================] - 3s 211ms/step - loss: 0.0022 - val_loss: 2.3967e-04\n",
      "Epoch 35/100\n",
      "12/12 [==============================] - 2s 190ms/step - loss: 0.0028 - val_loss: 2.3874e-04\n",
      "Epoch 36/100\n",
      "12/12 [==============================] - 3s 219ms/step - loss: 0.0026 - val_loss: 2.2802e-04\n",
      "Epoch 37/100\n",
      "12/12 [==============================] - 2s 204ms/step - loss: 0.0023 - val_loss: 2.3092e-04\n",
      "Epoch 38/100\n",
      "12/12 [==============================] - 2s 193ms/step - loss: 0.0020 - val_loss: 2.3830e-04\n",
      "Epoch 39/100\n",
      "12/12 [==============================] - 2s 196ms/step - loss: 0.0019 - val_loss: 2.7084e-04\n",
      "Epoch 40/100\n",
      "12/12 [==============================] - 2s 193ms/step - loss: 0.0041 - val_loss: 0.0013\n",
      "Epoch 41/100\n",
      "12/12 [==============================] - 2s 194ms/step - loss: 0.0039 - val_loss: 6.3364e-04\n",
      "Epoch 42/100\n",
      "12/12 [==============================] - 2s 209ms/step - loss: 0.0029 - val_loss: 2.9391e-04\n",
      "Epoch 43/100\n",
      "12/12 [==============================] - 3s 218ms/step - loss: 0.0024 - val_loss: 3.4843e-04\n",
      "Epoch 44/100\n",
      "12/12 [==============================] - 2s 190ms/step - loss: 0.0024 - val_loss: 8.4705e-04\n",
      "Epoch 45/100\n",
      "12/12 [==============================] - 2s 192ms/step - loss: 0.0025 - val_loss: 2.2316e-04\n",
      "Epoch 46/100\n",
      "12/12 [==============================] - 2s 191ms/step - loss: 0.0021 - val_loss: 2.3750e-04\n",
      "Epoch 47/100\n",
      "12/12 [==============================] - 2s 199ms/step - loss: 0.0019 - val_loss: 2.6634e-04\n",
      "Epoch 48/100\n",
      "12/12 [==============================] - 2s 207ms/step - loss: 0.0020 - val_loss: 2.2298e-04\n",
      "Epoch 49/100\n",
      "12/12 [==============================] - 3s 227ms/step - loss: 0.0030 - val_loss: 2.9773e-04\n",
      "Epoch 50/100\n",
      "12/12 [==============================] - 2s 201ms/step - loss: 0.0036 - val_loss: 3.0354e-04\n",
      "Epoch 51/100\n",
      "12/12 [==============================] - 3s 211ms/step - loss: 0.0039 - val_loss: 3.5970e-04\n",
      "Epoch 52/100\n",
      "12/12 [==============================] - 3s 221ms/step - loss: 0.0030 - val_loss: 2.2542e-04\n",
      "Epoch 53/100\n",
      "12/12 [==============================] - 3s 215ms/step - loss: 0.0022 - val_loss: 2.7262e-04\n",
      "Epoch 54/100\n",
      "12/12 [==============================] - 3s 211ms/step - loss: 0.0017 - val_loss: 2.1570e-04\n",
      "Epoch 55/100\n",
      "12/12 [==============================] - 3s 217ms/step - loss: 0.0017 - val_loss: 2.4906e-04\n",
      "Epoch 56/100\n",
      "12/12 [==============================] - 3s 215ms/step - loss: 0.0016 - val_loss: 2.2704e-04\n",
      "Epoch 57/100\n",
      "12/12 [==============================] - 2s 208ms/step - loss: 0.0015 - val_loss: 2.2707e-04\n",
      "Epoch 58/100\n",
      "12/12 [==============================] - 2s 203ms/step - loss: 0.0015 - val_loss: 2.2435e-04\n",
      "Epoch 59/100\n",
      "12/12 [==============================] - 2s 209ms/step - loss: 0.0018 - val_loss: 2.1398e-04\n",
      "Epoch 60/100\n",
      "12/12 [==============================] - 2s 207ms/step - loss: 0.0015 - val_loss: 2.2079e-04\n",
      "Epoch 61/100\n",
      "12/12 [==============================] - 3s 212ms/step - loss: 0.0016 - val_loss: 2.1540e-04\n",
      "Epoch 62/100\n",
      "12/12 [==============================] - 3s 214ms/step - loss: 0.0017 - val_loss: 2.0963e-04\n",
      "Epoch 63/100\n",
      "12/12 [==============================] - 2s 208ms/step - loss: 0.0016 - val_loss: 2.0337e-04\n",
      "Epoch 64/100\n",
      "12/12 [==============================] - 2s 206ms/step - loss: 0.0017 - val_loss: 2.1545e-04\n",
      "Epoch 65/100\n",
      "12/12 [==============================] - 3s 212ms/step - loss: 0.0017 - val_loss: 2.8230e-04\n",
      "Epoch 66/100\n",
      "12/12 [==============================] - 3s 210ms/step - loss: 0.0013 - val_loss: 2.1229e-04\n",
      "Epoch 67/100\n",
      "12/12 [==============================] - 2s 202ms/step - loss: 0.0015 - val_loss: 2.4167e-04\n",
      "Epoch 68/100\n",
      "12/12 [==============================] - 2s 202ms/step - loss: 0.0016 - val_loss: 3.3213e-04\n",
      "Epoch 69/100\n",
      "12/12 [==============================] - 2s 202ms/step - loss: 0.0020 - val_loss: 5.0551e-04\n",
      "Epoch 70/100\n",
      "12/12 [==============================] - 2s 203ms/step - loss: 0.0018 - val_loss: 2.3949e-04\n",
      "Epoch 71/100\n",
      "12/12 [==============================] - 2s 200ms/step - loss: 0.0021 - val_loss: 2.1096e-04\n",
      "Epoch 72/100\n",
      "12/12 [==============================] - 2s 199ms/step - loss: 0.0016 - val_loss: 2.1951e-04\n",
      "Epoch 73/100\n",
      "12/12 [==============================] - 2s 203ms/step - loss: 0.0023 - val_loss: 7.1099e-04\n",
      "Epoch 74/100\n",
      "12/12 [==============================] - 2s 202ms/step - loss: 0.0025 - val_loss: 2.4097e-04\n",
      "Epoch 75/100\n",
      "12/12 [==============================] - 2s 200ms/step - loss: 0.0015 - val_loss: 2.1736e-04\n",
      "Epoch 76/100\n",
      "12/12 [==============================] - 3s 211ms/step - loss: 0.0016 - val_loss: 5.0270e-04\n",
      "Epoch 77/100\n",
      "12/12 [==============================] - 2s 209ms/step - loss: 0.0017 - val_loss: 2.2007e-04\n",
      "Epoch 78/100\n",
      "12/12 [==============================] - 3s 212ms/step - loss: 0.0017 - val_loss: 2.0663e-04\n",
      "Epoch 79/100\n",
      "12/12 [==============================] - 2s 206ms/step - loss: 0.0015 - val_loss: 2.2335e-04\n",
      "Epoch 80/100\n",
      "12/12 [==============================] - 2s 204ms/step - loss: 0.0014 - val_loss: 2.0062e-04\n",
      "Epoch 81/100\n",
      "12/12 [==============================] - 3s 220ms/step - loss: 0.0015 - val_loss: 2.4989e-04\n",
      "Epoch 82/100\n",
      "12/12 [==============================] - 2s 204ms/step - loss: 0.0015 - val_loss: 2.0840e-04\n",
      "Epoch 83/100\n",
      "12/12 [==============================] - 2s 199ms/step - loss: 0.0015 - val_loss: 2.0046e-04\n",
      "Epoch 84/100\n",
      "12/12 [==============================] - 2s 200ms/step - loss: 0.0012 - val_loss: 2.0987e-04\n",
      "Epoch 85/100\n",
      "12/12 [==============================] - 2s 199ms/step - loss: 0.0011 - val_loss: 2.4011e-04\n",
      "Epoch 86/100\n",
      "12/12 [==============================] - 2s 204ms/step - loss: 0.0014 - val_loss: 2.1524e-04\n",
      "Epoch 87/100\n",
      "12/12 [==============================] - 2s 197ms/step - loss: 0.0016 - val_loss: 2.1808e-04\n",
      "Epoch 88/100\n",
      "12/12 [==============================] - 2s 204ms/step - loss: 0.0013 - val_loss: 1.9795e-04\n",
      "Epoch 89/100\n",
      "12/12 [==============================] - 2s 209ms/step - loss: 0.0014 - val_loss: 4.0895e-04\n",
      "Epoch 90/100\n",
      "12/12 [==============================] - 3s 212ms/step - loss: 0.0014 - val_loss: 2.6221e-04\n",
      "Epoch 91/100\n",
      "12/12 [==============================] - 3s 212ms/step - loss: 0.0016 - val_loss: 1.9720e-04\n",
      "Epoch 92/100\n",
      "12/12 [==============================] - 2s 199ms/step - loss: 0.0013 - val_loss: 1.9977e-04\n",
      "Epoch 93/100\n",
      "12/12 [==============================] - 2s 203ms/step - loss: 8.5694e-04 - val_loss: 2.0092e-04\n",
      "Epoch 94/100\n",
      "12/12 [==============================] - 2s 197ms/step - loss: 0.0011 - val_loss: 1.9080e-04\n",
      "Epoch 95/100\n",
      "12/12 [==============================] - 2s 188ms/step - loss: 0.0025 - val_loss: 3.5690e-04\n",
      "Epoch 96/100\n",
      "12/12 [==============================] - 2s 198ms/step - loss: 0.0026 - val_loss: 2.6360e-04\n",
      "Epoch 97/100\n",
      "12/12 [==============================] - 2s 200ms/step - loss: 0.0024 - val_loss: 2.7808e-04\n",
      "Epoch 98/100\n",
      "12/12 [==============================] - 2s 200ms/step - loss: 0.0028 - val_loss: 4.2571e-04\n",
      "Epoch 99/100\n",
      "12/12 [==============================] - 2s 202ms/step - loss: 0.0020 - val_loss: 1.7365e-04\n",
      "Epoch 100/100\n",
      "12/12 [==============================] - 2s 204ms/step - loss: 0.0014 - val_loss: 2.3745e-04\n"
     ]
    },
    {
     "data": {
      "text/plain": [
       "<keras.callbacks.History at 0x24365e38d60>"
      ]
     },
     "execution_count": 28,
     "metadata": {},
     "output_type": "execute_result"
    }
   ],
   "source": [
    "model.fit(X_train, y_train, validation_data = (X_test,ytest), epochs=100, batch_size=64, verbose=1)"
   ]
  },
  {
   "cell_type": "code",
   "execution_count": 29,
   "id": "940740aa",
   "metadata": {},
   "outputs": [
    {
     "name": "stdout",
     "output_type": "stream",
     "text": [
      "23/23 [==============================] - 2s 39ms/step\n",
      "11/11 [==============================] - 1s 40ms/step\n"
     ]
    }
   ],
   "source": [
    "train_predict=model.predict(X_train)\n",
    "test_predict=model.predict(X_test)"
   ]
  },
  {
   "cell_type": "code",
   "execution_count": 30,
   "id": "8bf538f0",
   "metadata": {},
   "outputs": [],
   "source": [
    "train_predict=scaler.inverse_transform(train_predict)\n",
    "test_predict=scaler.inverse_transform(test_predict)"
   ]
  },
  {
   "cell_type": "code",
   "execution_count": 31,
   "id": "27d6f131",
   "metadata": {},
   "outputs": [],
   "source": [
    "import math\n",
    "from sklearn.metrics import mean_squared_error"
   ]
  },
  {
   "cell_type": "code",
   "execution_count": 32,
   "id": "db988f8c",
   "metadata": {},
   "outputs": [
    {
     "data": {
      "text/plain": [
       "230.7467308850019"
      ]
     },
     "execution_count": 32,
     "metadata": {},
     "output_type": "execute_result"
    }
   ],
   "source": [
    "math.sqrt(mean_squared_error(y_train,train_predict))"
   ]
  },
  {
   "cell_type": "code",
   "execution_count": 33,
   "id": "6653395b",
   "metadata": {},
   "outputs": [
    {
     "data": {
      "text/plain": [
       "150.64244700479014"
      ]
     },
     "execution_count": 33,
     "metadata": {},
     "output_type": "execute_result"
    }
   ],
   "source": [
    "math.sqrt(mean_squared_error(ytest,test_predict))"
   ]
  },
  {
   "cell_type": "code",
   "execution_count": 34,
   "id": "7d8dcf6a",
   "metadata": {},
   "outputs": [
    {
     "data": {
      "image/png": "[encoded data removed]",
      "text/plain": [
       "<Figure size 432x288 with 1 Axes>"
      ]
     },
     "metadata": {
      "needs_background": "light"
     },
     "output_type": "display_data"
    }
   ],
   "source": [
    "### Plotting \n",
    "# shift train predictions for plotting\n",
    "look_back=100\n",
    "trainPredictPlot = numpy.empty_like(df1)\n",
    "trainPredictPlot[:, :] = np.nan\n",
    "trainPredictPlot[look_back:len(train_predict)+look_back, :] = train_predict\n",
    "# shift test predictions for plotting\n",
    "testPredictPlot = numpy.empty_like(df1)\n",
    "testPredictPlot[:, :] = numpy.nan\n",
    "testPredictPlot[len(train_predict)+(look_back*2)+1:len(df1)-1, :] = test_predict\n",
    "# plot baseline and predictions\n",
    "plt.plot(scaler.inverse_transform(df1))\n",
    "plt.plot(trainPredictPlot)\n",
    "plt.plot(testPredictPlot)\n",
    "plt.show()"
   ]
  },
  {
   "cell_type": "code",
   "execution_count": null,
   "id": "24373aa5",
   "metadata": {},
   "outputs": [],
   "source": []
  }
 ],
 "metadata": {
  "kernelspec": {
   "display_name": "Python 3 (ipykernel)",
   "language": "python",
   "name": "python3"
  },
  "language_info": {
   "codemirror_mode": {
    "name": "ipython",
    "version": 3
   },
   "file_extension": ".py",
   "mimetype": "text/x-python",
   "name": "python",
   "nbconvert_exporter": "python",
   "pygments_lexer": "ipython3",
   "version": "3.9.12"
  }
 },
 "nbformat": 4,
 "nbformat_minor": 5
}
